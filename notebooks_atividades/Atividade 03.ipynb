{
 "cells": [
  {
   "attachments": {},
   "cell_type": "markdown",
   "id": "ebfbea4e",
   "metadata": {},
   "source": [
    "# Atividade 3\n",
    "\n",
    "Faça tudo via dbt. \n",
    "\n",
    "Envia como resposta:\n",
    "- A query SQL\n",
    "- Comando utilizado via terminal no `dbt`\n",
    "- Um print do resultado no próprio notebook, para isso é necessário criar uma pasta no repositório onde serão armazenadas as imagens, e para inserir no notebook é necessário criar uma célula `markdown` e inserir o seguinte comando: \n",
    "\n",
    "```markdown\n",
    "![Nome da Foto](path/para/imagem)\n",
    "```"
   ]
  },
  {
   "attachments": {},
   "cell_type": "markdown",
   "id": "c0c42967",
   "metadata": {},
   "source": [
    "1. Crie uma tabela `orders_by_year` a partir de `orders` que agrupa a quantidade de pedidos por ano, considerando a coluna `order_approved_at`"
   ]
  },
  {
   "attachments": {},
   "cell_type": "markdown",
   "id": "961076af",
   "metadata": {},
   "source": [
    "Query SQL\n",
    "```sql\n",
    "   {{ config(materialized='table') }}\n",
    "\n",
    "SELECT extract(year from order_approved_at), count (order_id) as total\n",
    "  FROM `dbt-shop-rodrigo-384318.dbt_shop.orders`\n",
    "    where order_approved_at IS NOT NULL \n",
    "      group by extract(year from order_approved_at)\n",
    "\n",
    "```   "
   ]
  },
  {
   "attachments": {},
   "cell_type": "markdown",
   "id": "7718b090",
   "metadata": {},
   "source": [
    "``dbt run --models shop.orders_by_year``"
   ]
  },
  {
   "attachments": {},
   "cell_type": "markdown",
   "id": "7096c3c4",
   "metadata": {},
   "source": [
    "![passo1](images/01-orders_by_year.png)"
   ]
  },
  {
   "attachments": {},
   "cell_type": "markdown",
   "id": "aa520524",
   "metadata": {},
   "source": [
    "2. Crie uma `view` que agrega os totais de pedidos por estado. Considere as tabelas _customers_ para obter os estados (coluna _customer_state_) e _orders_ para contabilizar a quantidade de pedidos."
   ]
  },
  {
   "attachments": {},
   "cell_type": "markdown",
   "id": "f3b3f44f",
   "metadata": {},
   "source": [
    "Query SQL\n",
    "```sql\n",
    "SELECT customers.customer_state, count(orders.order_id) as total\n",
    "\n",
    " FROM `dbt-shop-rodrigo-384318.dbt_shop.orders` as orders \n",
    "  INNER JOIN `dbt_shop.customers` customers on orders.customer_id = customers.customer_id \n",
    "    group by customers.customer_state\n",
    "\n",
    "```   "
   ]
  },
  {
   "cell_type": "markdown",
   "id": "aa9b9ae4",
   "metadata": {},
   "source": [
    "``dbt run --models shop.total_pedidos_por_estado``"
   ]
  },
  {
   "cell_type": "markdown",
   "id": "fc8a6c0c",
   "metadata": {},
   "source": [
    "![passo2](images/02-total_pedidos_por_estado.png)"
   ]
  },
  {
   "attachments": {},
   "cell_type": "markdown",
   "id": "54e0e5f1",
   "metadata": {},
   "source": [
    "3. De acordo com o resultado do exercício 2 retorne apenas os estados que tem mais de 5000 pedidos, esse número deve ser passado via variável `number_of_orders` do `dbt`."
   ]
  },
  {
   "attachments": {},
   "cell_type": "markdown",
   "id": "515b63df",
   "metadata": {},
   "source": [
    "Query SQL\n",
    "```sql\n",
    "SELECT customers.customer_state, count(orders.order_id) as total\n",
    "\n",
    " FROM `dbt-shop-rodrigo-384318.dbt_shop.orders` as orders \n",
    "  INNER JOIN `dbt_shop.customers` customers on orders.customer_id = customers.customer_id    \n",
    "     group by customers.customer_state\n",
    "      having count(orders.order_id) > CAST('{{ var(\"number_of_orders\") }}' as INT64)         \n",
    "\n",
    "```   "
   ]
  },
  {
   "attachments": {},
   "cell_type": "markdown",
   "id": "cc8d63af",
   "metadata": {},
   "source": [
    "``dbt run --models shop.total_pedidos_por_estado_qtd --vars 'number_of_orders: 5000'``"
   ]
  },
  {
   "attachments": {},
   "cell_type": "markdown",
   "id": "47d304b5",
   "metadata": {},
   "source": [
    "![passo3](images/03-number_of_orders.png)"
   ]
  },
  {
   "attachments": {},
   "cell_type": "markdown",
   "id": "9c3ad0cc",
   "metadata": {},
   "source": [
    "4. Crie uma `view` chamada `customers_by_region` que utiliza os dados da tabela `customers`. A visão deve realizar uma agregação por região do Brasil (Norte, Nordeste, Sudeste, Centro Oeste e Sul) e contar o número de clientes em cada uma delas."
   ]
  },
  {
   "cell_type": "markdown",
   "id": "a7e648dd",
   "metadata": {},
   "source": [
    "Query SQL\n",
    "```sql\n",
    "SELECT count (customer_id) as total_customers,\n",
    "case\n",
    "  --Norte\n",
    "    when customer_state like 'AM' then 'Norte'\n",
    "    when customer_state like 'RR' then 'Norte'\n",
    "    when customer_state like 'AP' then 'Norte'\n",
    "    when customer_state like 'PA' then 'Norte'\n",
    "    when customer_state like 'TO' then 'Norte'\n",
    "    when customer_state like 'RO' then 'Norte'\n",
    "    when customer_state like 'AC' then 'Norte'\n",
    "\n",
    "  --Nordeste\n",
    "    when customer_state like 'RN' then 'Nordeste'\n",
    "    when customer_state like 'CE' then 'Nordeste'\n",
    "    when customer_state like 'MA' then 'Nordeste'\n",
    "    when customer_state like 'PI' then 'Nordeste'\n",
    "    when customer_state like 'PE' then 'Nordeste'\n",
    "    when customer_state like 'PB' then 'Nordeste'\n",
    "    when customer_state like 'SE' then 'Nordeste'\n",
    "    when customer_state like 'AL' then 'Nordeste'\n",
    "    when customer_state like 'BA' then 'Nordeste'\n",
    "\n",
    "  -- Centro-Oeste\n",
    "    when customer_state like 'MT' then 'Centro-Oeste'\n",
    "    when customer_state like 'MS' then 'Centro-Oeste'\n",
    "    when customer_state like 'GO' then 'Centro-Oeste'\n",
    "    when customer_state like 'DF' then 'Centro-Oeste'\n",
    "\n",
    "  --Sudeste\n",
    "    when customer_state like 'SP' then 'Sudeste'\n",
    "    when customer_state like 'RJ' then 'Sudeste'\n",
    "    when customer_state like 'MG' then 'Sudeste'\n",
    "    when customer_state like 'ES' then 'Sudeste'\n",
    "  \n",
    "  --Sul\n",
    "  when customer_state like 'PR' then 'Sul'\n",
    "  when customer_state like 'SC' then 'Sul'\n",
    "  when customer_state like 'RS' then 'Sul'\n",
    "\n",
    "  end as region\n",
    "\n",
    "\n",
    "FROM `dbt-shop-rodrigo-384318.dbt_shop.customers` \n",
    "group by \n",
    "  case\n",
    "  --Norte\n",
    "    when customer_state like 'AM' then 'Norte'\n",
    "    when customer_state like 'RR' then 'Norte'\n",
    "    when customer_state like 'AP' then 'Norte'\n",
    "    when customer_state like 'PA' then 'Norte'\n",
    "    when customer_state like 'TO' then 'Norte'\n",
    "    when customer_state like 'RO' then 'Norte'\n",
    "    when customer_state like 'AC' then 'Norte'\n",
    "\n",
    "  --Nordeste\n",
    "    when customer_state like 'RN' then 'Nordeste'\n",
    "    when customer_state like 'CE' then 'Nordeste'\n",
    "    when customer_state like 'MA' then 'Nordeste'\n",
    "    when customer_state like 'PI' then 'Nordeste'\n",
    "    when customer_state like 'PE' then 'Nordeste'\n",
    "    when customer_state like 'PB' then 'Nordeste'\n",
    "    when customer_state like 'SE' then 'Nordeste'\n",
    "    when customer_state like 'AL' then 'Nordeste'\n",
    "    when customer_state like 'BA' then 'Nordeste'\n",
    "\n",
    "  -- Centro-Oeste\n",
    "    when customer_state like 'MT' then 'Centro-Oeste'\n",
    "    when customer_state like 'MS' then 'Centro-Oeste'\n",
    "    when customer_state like 'GO' then 'Centro-Oeste'\n",
    "    when customer_state like 'DF' then 'Centro-Oeste'\n",
    "\n",
    "  --Sudeste\n",
    "    when customer_state like 'SP' then 'Sudeste'\n",
    "    when customer_state like 'RJ' then 'Sudeste'\n",
    "    when customer_state like 'MG' then 'Sudeste'\n",
    "    when customer_state like 'ES' then 'Sudeste'\n",
    "  \n",
    "  --Sul\n",
    "  when customer_state like 'PR' then 'Sul'\n",
    "  when customer_state like 'SC' then 'Sul'\n",
    "  when customer_state like 'RS' then 'Sul'\n",
    "  end\n",
    "\n",
    "``` "
   ]
  },
  {
   "cell_type": "markdown",
   "id": "e4d2baaa",
   "metadata": {},
   "source": [
    "``dbt run --models shop.customers_by_region``"
   ]
  },
  {
   "attachments": {},
   "cell_type": "markdown",
   "id": "49d19937",
   "metadata": {},
   "source": [
    "![passo4](images/04-customers_by_region.png)"
   ]
  },
  {
   "attachments": {},
   "cell_type": "markdown",
   "id": "d4c16290",
   "metadata": {},
   "source": [
    "5. Crie uma tabela `items_costs` que contenha o preço total de um item (soma do valor do produto com o frete)."
   ]
  },
  {
   "attachments": {},
   "cell_type": "markdown",
   "id": "d1138f56",
   "metadata": {},
   "source": [
    "Query SQL\n",
    "```sql\n",
    "{{ config(materialized='table') }}\n",
    "SELECT *, (price + freight_value) as item_cost FROM `dbt-shop-rodrigo-384318.dbt_shop.order_items`  \n",
    "\n",
    "```   "
   ]
  },
  {
   "cell_type": "markdown",
   "id": "7eaadd21",
   "metadata": {},
   "source": [
    "``dbt run --models shop.item_costs``"
   ]
  },
  {
   "attachments": {},
   "cell_type": "markdown",
   "id": "a600d8e9",
   "metadata": {},
   "source": [
    "![passo5](images/05-item_costs.png)"
   ]
  },
  {
   "attachments": {},
   "cell_type": "markdown",
   "id": "08cc4c02",
   "metadata": {},
   "source": [
    "6. Crie uma `view` com o nome `orders_shipped_costs`, você deve calcular o preço total do pedido somado com o frete, apenas para pedidos enviado (shipped)."
   ]
  },
  {
   "attachments": {},
   "cell_type": "markdown",
   "id": "32931e7b",
   "metadata": {},
   "source": [
    "Query SQL\n",
    "```sql\n",
    "SELECT orders.order_id, orders.order_status, items.price, items.freight_value, \n",
    "  (items.price + items.freight_value) as total FROM `dbt-shop-rodrigo-384318.dbt_shop.orders` as orders\n",
    "inner join `dbt_shop.order_items`items on items.order_id = orders.order_id\n",
    "\n",
    "where order_status like \"shipped\"\n",
    "\n",
    "```   "
   ]
  },
  {
   "attachments": {},
   "cell_type": "markdown",
   "id": "96510d31",
   "metadata": {},
   "source": [
    "``dbt run --models shop.orders_shipped_costs``"
   ]
  },
  {
   "cell_type": "markdown",
   "id": "dacce9fc",
   "metadata": {},
   "source": [
    "![passo6](images/06-orders_shipped_costs.png)"
   ]
  }
 ],
 "metadata": {
  "kernelspec": {
   "display_name": "Python 3",
   "language": "python",
   "name": "python3"
  },
  "language_info": {
   "codemirror_mode": {
    "name": "ipython",
    "version": 3
   },
   "file_extension": ".py",
   "mimetype": "text/x-python",
   "name": "python",
   "nbconvert_exporter": "python",
   "pygments_lexer": "ipython3",
   "version": "3.10.9"
  }
 },
 "nbformat": 4,
 "nbformat_minor": 5
}
